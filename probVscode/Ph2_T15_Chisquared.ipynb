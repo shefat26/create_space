{
 "cells": [
  {
   "cell_type": "markdown",
   "id": "d2567d1c",
   "metadata": {
    "cell_style": "center",
    "slideshow": {
     "slide_type": "slide"
    }
   },
   "source": [
    "<div style=\"color:white;\n",
    "           display:fill;\n",
    "           border-radius:5px;\n",
    "           background-color:#5642C5;\n",
    "           font-size:200%;\n",
    "           font-family:Arial;letter-spacing:0.5px\">\n",
    "\n",
    "<p width = 20%, style=\"padding: 10px;\n",
    "              color:white;\">\n",
    "The Chi-Squared Tests\n",
    "              \n",
    "</p>\n",
    "</div>\n",
    "\n",
    "Data Science Cohort Live NYC Aug 2024\n",
    "<p>Phase 2: Topic 15</p>\n",
    "<br>\n",
    "<br>\n",
    "\n",
    "<div align = \"right\">\n",
    "<img src=\"Images/flatiron-school-logo.png\" align = \"right\" width=\"200\"/>\n",
    "</div>\n",
    "    \n",
    "    "
   ]
  },
  {
   "cell_type": "markdown",
   "id": "c3203eae",
   "metadata": {
    "cell_style": "split",
    "slideshow": {
     "slide_type": "slide"
    }
   },
   "source": [
    "#### So far hypothesis testing:\n",
    "- Comparisons between groups *via the mean*\n",
    "\n",
    "Are the populations of the northern and southern Koala heights different? \n",
    "- Compare via hypothesis testing on the mean."
   ]
  },
  {
   "cell_type": "markdown",
   "id": "7792465f",
   "metadata": {
    "cell_style": "split",
    "slideshow": {
     "slide_type": "fragment"
    }
   },
   "source": [
    "- Z-tests\n",
    "- t-tests"
   ]
  },
  {
   "cell_type": "markdown",
   "id": "fd41eac7",
   "metadata": {
    "slideshow": {
     "slide_type": "slide"
    }
   },
   "source": [
    "#### The need for another class of tests"
   ]
  },
  {
   "cell_type": "markdown",
   "id": "99e3303c",
   "metadata": {
    "cell_style": "center",
    "slideshow": {
     "slide_type": "fragment"
    }
   },
   "source": [
    "Sometimes comparison of groups by mean of numerical variable overly simple or not relevant."
   ]
  },
  {
   "cell_type": "markdown",
   "id": "59f4c029",
   "metadata": {
    "slideshow": {
     "slide_type": "skip"
    }
   },
   "source": [
    "#### Test of Homogeneity\n",
    "\n",
    "- Want to compare two samples by their **entire** distribution over a numerical quantity.\n",
    "    - Are the corresponding population the same or different?\n",
    "- Comparing two samples by their count distribution over **categorical variables**.\n",
    "    - Are the corresponding population the same or different?"
   ]
  },
  {
   "cell_type": "markdown",
   "id": "b792071f",
   "metadata": {
    "slideshow": {
     "slide_type": "slide"
    }
   },
   "source": [
    "#### Goodness of fit\n",
    "- Want to compare count distribution of of given variable (categorical or numerical) \n",
    "- from a sample to see if it follows a known/given distribution.\n",
    "\n"
   ]
  },
  {
   "cell_type": "markdown",
   "id": "6705ca80",
   "metadata": {
    "slideshow": {
     "slide_type": "slide"
    }
   },
   "source": [
    "#### Example: Massive Multiplayer Online Role Playing Game (MMORPG) \n",
    "</br>\n",
    "Choose your character wisely...\n",
    "<div align = \"center\">\n",
    "<center><img src=\"Images/mmorpg.png\" align = \"center\" width=\"900\"/></center>\n",
    "</div>\n",
    "    "
   ]
  },
  {
   "cell_type": "markdown",
   "id": "c967b712",
   "metadata": {
    "cell_style": "split",
    "slideshow": {
     "slide_type": "slide"
    }
   },
   "source": [
    "Company running MMORPG in the U.S. \n",
    "- Testing entry into U.K. market. \n",
    "- Want to see how U.K. users choose battle classes compared to to U.S. users."
   ]
  },
  {
   "cell_type": "markdown",
   "id": "20e4d0aa",
   "metadata": {
    "cell_style": "split",
    "slideshow": {
     "slide_type": "fragment"
    }
   },
   "source": [
    "Roll out to 400 early access UK users."
   ]
  },
  {
   "cell_type": "markdown",
   "id": "7e39ea76",
   "metadata": {
    "cell_style": "split",
    "slideshow": {
     "slide_type": "fragment"
    }
   },
   "source": [
    "Count distribution of preferred character class. \n",
    "- U.K. users:\n",
    "\n",
    "|              |  Battle-Mage  |  Healer  |  Illusionist  |  Fighter  |\n",
    "| ------------ | --- | --- | --- | --- |\n",
    "| **UK USERS** | 50  | 100 | 180 | 70  |"
   ]
  },
  {
   "cell_type": "markdown",
   "id": "a52685d5",
   "metadata": {
    "cell_style": "split",
    "slideshow": {
     "slide_type": "slide"
    }
   },
   "source": [
    "#### Ton of user data on the US:\n",
    "\n",
    "- **Battle-mage** is chosen $17\\%$ of the time\n",
    "- **Healer** is chosen $25\\%$ of the time\n",
    "- **Illusionist** is chosen $39\\%$ of the time\n",
    "- **Fighter** is chosen $19\\%$ of the time"
   ]
  },
  {
   "cell_type": "markdown",
   "id": "0838bf63",
   "metadata": {
    "cell_style": "split",
    "slideshow": {
     "slide_type": "fragment"
    }
   },
   "source": [
    "Compute expected counts in 400 user trial:\n",
    "- U.S. users:\n",
    "\n",
    "|              |  Battle-Mage  |  Healer  |  Illusionist  |  Fighter  |\n",
    "| ------------ | --- | --- | --- | --- |\n",
    "| **US USERS** | 68  | 100 | 156 | 76  |"
   ]
  },
  {
   "cell_type": "markdown",
   "id": "d8951489",
   "metadata": {
    "slideshow": {
     "slide_type": "slide"
    }
   },
   "source": [
    "In a handy dandy dataframe:"
   ]
  },
  {
   "cell_type": "code",
   "execution_count": 5,
   "id": "f89027f4",
   "metadata": {
    "slideshow": {
     "slide_type": "skip"
    }
   },
   "outputs": [],
   "source": [
    "import pandas as pd\n",
    "import numpy as np\n",
    "import matplotlib.pyplot as plt\n",
    "\n",
    "data = np.array([(50,68),(100,100), (180,156), (70,76)]).T\n",
    "count_table = pd.DataFrame(data, index = ['UK', 'US'], columns = ['Battle-Mage', 'Healer', 'Illusionist', 'Fighter'] )"
   ]
  },
  {
   "cell_type": "code",
   "execution_count": 6,
   "id": "c11692b2",
   "metadata": {
    "cell_style": "split",
    "slideshow": {
     "slide_type": "slide"
    }
   },
   "outputs": [
    {
     "data": {
      "text/html": [
       "<div>\n",
       "<style scoped>\n",
       "    .dataframe tbody tr th:only-of-type {\n",
       "        vertical-align: middle;\n",
       "    }\n",
       "\n",
       "    .dataframe tbody tr th {\n",
       "        vertical-align: top;\n",
       "    }\n",
       "\n",
       "    .dataframe thead th {\n",
       "        text-align: right;\n",
       "    }\n",
       "</style>\n",
       "<table border=\"1\" class=\"dataframe\">\n",
       "  <thead>\n",
       "    <tr style=\"text-align: right;\">\n",
       "      <th></th>\n",
       "      <th>Battle-Mage</th>\n",
       "      <th>Healer</th>\n",
       "      <th>Illusionist</th>\n",
       "      <th>Fighter</th>\n",
       "    </tr>\n",
       "  </thead>\n",
       "  <tbody>\n",
       "    <tr>\n",
       "      <th>UK</th>\n",
       "      <td>50</td>\n",
       "      <td>100</td>\n",
       "      <td>180</td>\n",
       "      <td>70</td>\n",
       "    </tr>\n",
       "    <tr>\n",
       "      <th>US</th>\n",
       "      <td>68</td>\n",
       "      <td>100</td>\n",
       "      <td>156</td>\n",
       "      <td>76</td>\n",
       "    </tr>\n",
       "  </tbody>\n",
       "</table>\n",
       "</div>"
      ],
      "text/plain": [
       "    Battle-Mage  Healer  Illusionist  Fighter\n",
       "UK           50     100          180       70\n",
       "US           68     100          156       76"
      ]
     },
     "execution_count": 6,
     "metadata": {},
     "output_type": "execute_result"
    }
   ],
   "source": [
    "count_table"
   ]
  },
  {
   "cell_type": "markdown",
   "id": "7a618bbc",
   "metadata": {
    "cell_style": "split",
    "slideshow": {
     "slide_type": "fragment"
    }
   },
   "source": [
    "They look kind of similar in pattern:\n",
    "- But can we say that they are drawn from the same distribution?\n",
    "\n",
    "Step 1: Get a metric that quantifies the difference in these counts:"
   ]
  },
  {
   "cell_type": "code",
   "execution_count": 4,
   "id": "839ee134",
   "metadata": {
    "cell_style": "split",
    "slideshow": {
     "slide_type": "slide"
    }
   },
   "outputs": [
    {
     "data": {
      "text/html": [
       "<div>\n",
       "<style scoped>\n",
       "    .dataframe tbody tr th:only-of-type {\n",
       "        vertical-align: middle;\n",
       "    }\n",
       "\n",
       "    .dataframe tbody tr th {\n",
       "        vertical-align: top;\n",
       "    }\n",
       "\n",
       "    .dataframe thead th {\n",
       "        text-align: right;\n",
       "    }\n",
       "</style>\n",
       "<table border=\"1\" class=\"dataframe\">\n",
       "  <thead>\n",
       "    <tr style=\"text-align: right;\">\n",
       "      <th></th>\n",
       "      <th>Battle-Mage</th>\n",
       "      <th>Healer</th>\n",
       "      <th>Illusionist</th>\n",
       "      <th>Fighter</th>\n",
       "    </tr>\n",
       "  </thead>\n",
       "  <tbody>\n",
       "    <tr>\n",
       "      <th>UK</th>\n",
       "      <td>50</td>\n",
       "      <td>100</td>\n",
       "      <td>180</td>\n",
       "      <td>70</td>\n",
       "    </tr>\n",
       "    <tr>\n",
       "      <th>US</th>\n",
       "      <td>68</td>\n",
       "      <td>100</td>\n",
       "      <td>156</td>\n",
       "      <td>76</td>\n",
       "    </tr>\n",
       "  </tbody>\n",
       "</table>\n",
       "</div>"
      ],
      "text/plain": [
       "    Battle-Mage  Healer  Illusionist  Fighter\n",
       "UK           50     100          180       70\n",
       "US           68     100          156       76"
      ]
     },
     "execution_count": 4,
     "metadata": {},
     "output_type": "execute_result"
    }
   ],
   "source": [
    "count_table"
   ]
  },
  {
   "cell_type": "markdown",
   "id": "f9c3efb7",
   "metadata": {
    "cell_style": "split",
    "slideshow": {
     "slide_type": "fragment"
    }
   },
   "source": [
    "- $O_i$: observed frequency in bin $i$\n",
    "- $E_i$: expected frequency in bin $i$\n",
    "\n",
    "Define the $X^2$ statistic:\n",
    "\n",
    " $$ X^2 =  \\sum_i\\frac{(O_i - E_i)^2}{E_i} $$\n"
   ]
  },
  {
   "cell_type": "markdown",
   "id": "5b705c53",
   "metadata": {
    "cell_style": "center",
    "slideshow": {
     "slide_type": "slide"
    }
   },
   "source": [
    "- This metric tests the squared distance between observed and expected distributions.\n",
    "- Squared penalizes going above or below expected count."
   ]
  },
  {
   "cell_type": "markdown",
   "id": "93212964",
   "metadata": {
    "cell_style": "split"
   },
   "source": [
    "\n",
    " $$ X^2 =  \\sum_i\\frac{(O_i - E_i)^2}{E_i} $$\n"
   ]
  },
  {
   "cell_type": "markdown",
   "id": "a50d2376",
   "metadata": {
    "cell_style": "split",
    "slideshow": {
     "slide_type": "fragment"
    }
   },
   "source": [
    "**Denominator is crucial also**\n",
    "\n",
    "- Regions with low expected count treated same as those with high expected count."
   ]
  },
  {
   "cell_type": "markdown",
   "id": "a429b5ae",
   "metadata": {
    "slideshow": {
     "slide_type": "slide"
    }
   },
   "source": [
    "#### Step 2: calculating the chi-squared statistic:\n"
   ]
  },
  {
   "cell_type": "code",
   "execution_count": 104,
   "id": "aed5bf74",
   "metadata": {
    "cell_style": "split",
    "slideshow": {
     "slide_type": "slide"
    }
   },
   "outputs": [
    {
     "data": {
      "text/html": [
       "<div>\n",
       "<style scoped>\n",
       "    .dataframe tbody tr th:only-of-type {\n",
       "        vertical-align: middle;\n",
       "    }\n",
       "\n",
       "    .dataframe tbody tr th {\n",
       "        vertical-align: top;\n",
       "    }\n",
       "\n",
       "    .dataframe thead th {\n",
       "        text-align: right;\n",
       "    }\n",
       "</style>\n",
       "<table border=\"1\" class=\"dataframe\">\n",
       "  <thead>\n",
       "    <tr style=\"text-align: right;\">\n",
       "      <th></th>\n",
       "      <th>Battle-Mage</th>\n",
       "      <th>Healer</th>\n",
       "      <th>Illusionist</th>\n",
       "      <th>Fighter</th>\n",
       "    </tr>\n",
       "  </thead>\n",
       "  <tbody>\n",
       "    <tr>\n",
       "      <th>UK</th>\n",
       "      <td>50</td>\n",
       "      <td>100</td>\n",
       "      <td>180</td>\n",
       "      <td>70</td>\n",
       "    </tr>\n",
       "    <tr>\n",
       "      <th>US</th>\n",
       "      <td>68</td>\n",
       "      <td>100</td>\n",
       "      <td>156</td>\n",
       "      <td>76</td>\n",
       "    </tr>\n",
       "  </tbody>\n",
       "</table>\n",
       "</div>"
      ],
      "text/plain": [
       "    Battle-Mage  Healer  Illusionist  Fighter\n",
       "UK           50     100          180       70\n",
       "US           68     100          156       76"
      ]
     },
     "execution_count": 104,
     "metadata": {},
     "output_type": "execute_result"
    }
   ],
   "source": [
    "count_table"
   ]
  },
  {
   "cell_type": "markdown",
   "id": "e73e77cf",
   "metadata": {
    "cell_style": "split",
    "slideshow": {
     "slide_type": "-"
    }
   },
   "source": [
    " $$ X^2 =  \\sum_i\\frac{(O_i - E_i)^2}{E_i} $$"
   ]
  },
  {
   "cell_type": "code",
   "execution_count": 105,
   "id": "4b446119",
   "metadata": {
    "cell_style": "center",
    "slideshow": {
     "slide_type": "subslide"
    }
   },
   "outputs": [
    {
     "data": {
      "text/plain": [
       "Battle-Mage    4.764706\n",
       "Healer         0.000000\n",
       "Illusionist    3.692308\n",
       "Fighter        0.473684\n",
       "dtype: float64"
      ]
     },
     "execution_count": 105,
     "metadata": {},
     "output_type": "execute_result"
    }
   ],
   "source": [
    "terms = np.square(count_table.loc['UK'] - count_table.loc['US'])/(count_table.loc['US'])\n",
    "terms"
   ]
  },
  {
   "cell_type": "code",
   "execution_count": 106,
   "id": "37fbd4ca",
   "metadata": {
    "slideshow": {
     "slide_type": "fragment"
    }
   },
   "outputs": [
    {
     "data": {
      "text/plain": [
       "8.930697785186949"
      ]
     },
     "execution_count": 106,
     "metadata": {},
     "output_type": "execute_result"
    }
   ],
   "source": [
    "Xsquared = np.sum(terms)\n",
    "Xsquared"
   ]
  },
  {
   "cell_type": "markdown",
   "id": "e106d34b",
   "metadata": {
    "slideshow": {
     "slide_type": "slide"
    }
   },
   "source": [
    "#### Step 3: Modeling with a distribution"
   ]
  },
  {
   "cell_type": "markdown",
   "id": "037f03a9",
   "metadata": {
    "cell_style": "split",
    "slideshow": {
     "slide_type": "slide"
    }
   },
   "source": [
    " $$ X^2 =  \\sum_i\\frac{(O_i - E_i)^2}{E_i} $$"
   ]
  },
  {
   "cell_type": "markdown",
   "id": "196da0ef",
   "metadata": {
    "cell_style": "split",
    "slideshow": {
     "slide_type": "fragment"
    }
   },
   "source": [
    "The $X^2$ statistic follows the $\\chi^2$ distribution:\n",
    "- Note: $X^2$ always positive. \n",
    "- Only one-sided test."
   ]
  },
  {
   "cell_type": "markdown",
   "id": "c334bde4",
   "metadata": {
    "cell_style": "center",
    "slideshow": {
     "slide_type": "slide"
    }
   },
   "source": [
    "$\\chi^2$ distribution: \n",
    "- only has one argument: the degrees of freedom"
   ]
  },
  {
   "cell_type": "markdown",
   "id": "6eeba242",
   "metadata": {
    "slideshow": {
     "slide_type": "subslide"
    }
   },
   "source": [
    "The degrees of freedom different here than for t-distribution."
   ]
  },
  {
   "cell_type": "markdown",
   "id": "a52210a3",
   "metadata": {
    "cell_style": "split",
    "slideshow": {
     "slide_type": "fragment"
    }
   },
   "source": [
    "- t-distribution:\n",
    "    - $ df = N - 1 $"
   ]
  },
  {
   "cell_type": "markdown",
   "id": "8ce513a4",
   "metadata": {
    "cell_style": "split",
    "slideshow": {
     "slide_type": "fragment"
    }
   },
   "source": [
    "- $\\chi^2$-distribution (simple goodness of fit):\n",
    "    - $df = k -1$\n",
    "    \n",
    "where $k$ is the number of categorical variables\n"
   ]
  },
  {
   "cell_type": "code",
   "execution_count": 118,
   "id": "9804bf74",
   "metadata": {
    "cell_style": "center",
    "slideshow": {
     "slide_type": "slide"
    }
   },
   "outputs": [],
   "source": [
    "# import chi-squared\n",
    "from scipy.stats import chi2\n",
    "from scipy import stats"
   ]
  },
  {
   "cell_type": "markdown",
   "id": "33e8f7ed",
   "metadata": {
    "slideshow": {
     "slide_type": "slide"
    }
   },
   "source": [
    "For our problem k is the number of character classes (columns of our dataframe):"
   ]
  },
  {
   "cell_type": "code",
   "execution_count": 119,
   "id": "13214622",
   "metadata": {
    "slideshow": {
     "slide_type": "fragment"
    }
   },
   "outputs": [
    {
     "data": {
      "text/plain": [
       "4"
      ]
     },
     "execution_count": 119,
     "metadata": {},
     "output_type": "execute_result"
    }
   ],
   "source": [
    "k = count_table.shape[1]\n",
    "k"
   ]
  },
  {
   "cell_type": "markdown",
   "id": "9a73ed0b",
   "metadata": {
    "slideshow": {
     "slide_type": "slide"
    }
   },
   "source": [
    "Plot the $\\chi^2$-distribution for df = 3:"
   ]
  },
  {
   "cell_type": "code",
   "execution_count": 109,
   "id": "ffb4c883",
   "metadata": {
    "cell_style": "center",
    "slideshow": {
     "slide_type": "fragment"
    }
   },
   "outputs": [],
   "source": [
    "x = np.linspace(0, 12, 400)\n",
    "chi_pdf_array = chi2.pdf(x, df = k - 1)"
   ]
  },
  {
   "cell_type": "code",
   "execution_count": 110,
   "id": "372daf68",
   "metadata": {
    "slideshow": {
     "slide_type": "skip"
    }
   },
   "outputs": [],
   "source": [
    "%%capture chisquared_simpleplot\n",
    "sx2 = \"{:.2f}\".format(Xsquared)\n",
    "plt.plot(x, chi_pdf_array)\n",
    "plt.title('$\\chi^2$ distribution at df = 3')\n",
    "plt.xlabel('$X^2$')\n",
    "plt.show()"
   ]
  },
  {
   "cell_type": "code",
   "execution_count": 111,
   "id": "2d163d4c",
   "metadata": {
    "slideshow": {
     "slide_type": "fragment"
    }
   },
   "outputs": [
    {
     "data": {
      "image/png": "[encoded data removed]",
      "text/plain": [
       "<Figure size 640x480 with 1 Axes>"
      ]
     },
     "metadata": {},
     "output_type": "display_data"
    }
   ],
   "source": [
    "chisquared_simpleplot()"
   ]
  },
  {
   "cell_type": "code",
   "execution_count": 112,
   "id": "fbabd663",
   "metadata": {
    "slideshow": {
     "slide_type": "skip"
    }
   },
   "outputs": [],
   "source": [
    "def plot_chi_squared(statistic, k, alpha):\n",
    "    x = np.linspace(0, 12, 400)\n",
    "    chi_pdf_array = chi2.pdf(x, df = k - 1)\n",
    "    crit_stat = chi2.isf(alpha, df = k -1)\n",
    "    sx2 = \"{:.2f}\".format(statistic)\n",
    "    sxcrit = \"{:.2f}\".format(crit_stat)\n",
    "    \n",
    "    fig, ax = plt.subplots(figsize = (8,5))\n",
    "    ax.plot(x, chi_pdf_array)\n",
    "    ax.axvline(statistic, ls='--', c='b', label=\"$\\chi^2$= \" + str(sx2))\n",
    "    ax.axvline(crit_stat, ls='--', c='r', label=\"$\\chi_{crit}^2$= \" + str(sxcrit))\n",
    "    ax.fill_between(x, chi_pdf_array, where = (x > crit_stat), alpha = 0.5, color='r')\n",
    "    ax.set_xlabel(\"$X^2$\")\n",
    "    ax.legend()\n",
    "    plt.show()"
   ]
  },
  {
   "cell_type": "markdown",
   "id": "2bb5712e",
   "metadata": {
    "cell_style": "split",
    "slideshow": {
     "slide_type": "slide"
    }
   },
   "source": [
    "Since this is a hypothesis test:\n",
    "- Our null should have low $X^2$ value: little difference in the count distributions\n",
    "- Our alternate is that there is a difference: corresponds to larger $X^2$ values."
   ]
  },
  {
   "cell_type": "markdown",
   "id": "cfa5f0f8",
   "metadata": {
    "cell_style": "split",
    "slideshow": {
     "slide_type": "fragment"
    }
   },
   "source": [
    "Logic is similar other hypothesis testing:\n",
    "\n",
    "- Set significance level $\\alpha$\n",
    "- $X^2$ must lie outside lower range of values.\n",
    "- With probability of selecting  $X^2$ or more extreme being less than $\\alpha$."
   ]
  },
  {
   "cell_type": "markdown",
   "id": "8b8f9c31",
   "metadata": {
    "cell_style": "split",
    "slideshow": {
     "slide_type": "slide"
    }
   },
   "source": [
    "#### Inverse survival function\n",
    "- similar to .ppf() but for survival function instead of cdf\n",
    "- .isf(alpha, df = __) function\n",
    "- gets value for which $\\alpha$ probability of drawing it or greater."
   ]
  },
  {
   "cell_type": "markdown",
   "id": "ab0d4b33",
   "metadata": {
    "cell_style": "split",
    "slideshow": {
     "slide_type": "fragment"
    }
   },
   "source": [
    "Calculate $X^2_{crit}$ at significance level $\\alpha = 0.05$."
   ]
  },
  {
   "cell_type": "code",
   "execution_count": 113,
   "id": "8b1bd99c",
   "metadata": {
    "cell_style": "split",
    "slideshow": {
     "slide_type": "fragment"
    }
   },
   "outputs": [
    {
     "data": {
      "text/plain": [
       "7.814727903251178"
      ]
     },
     "execution_count": 113,
     "metadata": {},
     "output_type": "execute_result"
    }
   ],
   "source": [
    "alpha = 0.05\n",
    "X2_crit = chi2.isf(alpha, df = k -1)\n",
    "X2_crit"
   ]
  },
  {
   "cell_type": "markdown",
   "id": "75df51c5",
   "metadata": {},
   "source": [
    "Plot critical value and our statistic, shading rejection region:"
   ]
  },
  {
   "cell_type": "code",
   "execution_count": 114,
   "id": "591fabed",
   "metadata": {
    "cell_style": "split",
    "slideshow": {
     "slide_type": "slide"
    }
   },
   "outputs": [
    {
     "data": {
      "image/png": "[encoded data removed]",
      "text/plain": [
       "<Figure size 800x500 with 1 Axes>"
      ]
     },
     "metadata": {},
     "output_type": "display_data"
    }
   ],
   "source": [
    "plot_chi_squared(Xsquared, k = 4, alpha = 0.05)"
   ]
  },
  {
   "cell_type": "markdown",
   "id": "16e83d86",
   "metadata": {
    "cell_style": "split",
    "slideshow": {
     "slide_type": "fragment"
    }
   },
   "source": [
    "Our statistic clearly in rejection region."
   ]
  },
  {
   "cell_type": "markdown",
   "id": "df41a3a5",
   "metadata": {
    "cell_style": "split"
   },
   "source": [
    "Calculate p-value with survival function:"
   ]
  },
  {
   "cell_type": "code",
   "execution_count": 115,
   "id": "906ac0be",
   "metadata": {
    "cell_style": "split"
   },
   "outputs": [
    {
     "data": {
      "text/plain": [
       "0.0302266295876035"
      ]
     },
     "execution_count": 115,
     "metadata": {},
     "output_type": "execute_result"
    }
   ],
   "source": [
    "p_val = chi2.sf(Xsquared, df = k - 1)\n",
    "p_val"
   ]
  },
  {
   "cell_type": "markdown",
   "id": "01b7ff8c",
   "metadata": {
    "slideshow": {
     "slide_type": "slide"
    }
   },
   "source": [
    "#### Easy way to do goodness of fit"
   ]
  },
  {
   "cell_type": "code",
   "execution_count": 116,
   "id": "c8e32226",
   "metadata": {
    "slideshow": {
     "slide_type": "fragment"
    }
   },
   "outputs": [],
   "source": [
    "from scipy.stats import chisquare"
   ]
  },
  {
   "cell_type": "code",
   "execution_count": 117,
   "id": "5b58cb97",
   "metadata": {
    "slideshow": {
     "slide_type": "fragment"
    }
   },
   "outputs": [
    {
     "data": {
      "text/plain": [
       "Power_divergenceResult(statistic=8.930697785186949, pvalue=0.0302266295876035)"
      ]
     },
     "execution_count": 117,
     "metadata": {},
     "output_type": "execute_result"
    }
   ],
   "source": [
    "chisquare(count_table.loc['UK'], count_table.loc['US'] )"
   ]
  },
  {
   "cell_type": "markdown",
   "id": "1ead24e1",
   "metadata": {
    "slideshow": {
     "slide_type": "fragment"
    }
   },
   "source": [
    "We reject the notion that UK preferences on choosing character classes for MMORPG drawn from same distribution."
   ]
  },
  {
   "cell_type": "markdown",
   "id": "f9fa5348",
   "metadata": {
    "slideshow": {
     "slide_type": "slide"
    }
   },
   "source": [
    "#### Test of independence\n",
    "- Two variables of the sample: are they independent of each other or not? \n",
    "- $H_0$: The two variables are independent\n",
    "- $H_A$ The two variables are dependent."
   ]
  },
  {
   "cell_type": "markdown",
   "id": "3f99a760",
   "metadata": {
    "cell_style": "split",
    "slideshow": {
     "slide_type": "slide"
    }
   },
   "source": [
    "#### Example case\n",
    "\n",
    "Group of respondents in Indonesia:\n",
    "\n",
    "- Pick favorite fruit out of a choice of four.\n",
    "- We also record respondent gender.\n",
    "\n",
    "|         |  Durian    |  Bananas   |  Mangos |  Persimmons    |        \n",
    "| ------- | ----- | ----- | ----- | ----- | \n",
    "| **Male**  |  68   |  102  | 246   | 105   | \n",
    "| **Female** |  86   |  88   |  216  |  89   |\n",
    "\n",
    "Is fruit preference dependent on sex?\n"
   ]
  },
  {
   "cell_type": "markdown",
   "id": "e8ece511",
   "metadata": {
    "cell_style": "split",
    "slideshow": {
     "slide_type": "fragment"
    }
   },
   "source": [
    "Two variables we want to test independence on: \n",
    "- **sex** \n",
    "- **fruit type**"
   ]
  },
  {
   "cell_type": "markdown",
   "id": "fb05db78",
   "metadata": {
    "cell_style": "split",
    "slideshow": {
     "slide_type": "fragment"
    }
   },
   "source": [
    "- $H_0$: Sex and fruit preference independent.\n",
    "- $H_A$ Sex and fruit dependent."
   ]
  },
  {
   "cell_type": "markdown",
   "id": "80dbd58b",
   "metadata": {
    "cell_style": "split",
    "slideshow": {
     "slide_type": "fragment"
    }
   },
   "source": [
    "Can do $\\chi^2$ test for this with some tweaks."
   ]
  },
  {
   "cell_type": "code",
   "execution_count": 72,
   "id": "7a365c48",
   "metadata": {
    "slideshow": {
     "slide_type": "skip"
    }
   },
   "outputs": [],
   "source": [
    "# load this data into a dataframe\n",
    "import numpy as np\n",
    "import pandas as pd\n",
    "from copy import deepcopy\n",
    "\n",
    "survey = np.array([[68,102,246,105],[86,88,216,89]])\n",
    "\n",
    "fruit_survey_df = pd.DataFrame(survey, index = ['Male', 'Female'], \n",
    "                               columns = ['Durian', 'Bananas', 'Mangos', 'Persimmons'])\n",
    "\n",
    "fruit_survey_df\n",
    "fruit_survey_orig = deepcopy(fruit_survey_df)"
   ]
  },
  {
   "cell_type": "markdown",
   "id": "f6c75d11",
   "metadata": {
    "slideshow": {
     "slide_type": "slide"
    }
   },
   "source": [
    "Data loaded into dataframe"
   ]
  },
  {
   "cell_type": "code",
   "execution_count": 73,
   "id": "6354a6d4",
   "metadata": {
    "cell_style": "split",
    "slideshow": {
     "slide_type": "fragment"
    }
   },
   "outputs": [
    {
     "data": {
      "text/html": [
       "<div>\n",
       "<style scoped>\n",
       "    .dataframe tbody tr th:only-of-type {\n",
       "        vertical-align: middle;\n",
       "    }\n",
       "\n",
       "    .dataframe tbody tr th {\n",
       "        vertical-align: top;\n",
       "    }\n",
       "\n",
       "    .dataframe thead th {\n",
       "        text-align: right;\n",
       "    }\n",
       "</style>\n",
       "<table border=\"1\" class=\"dataframe\">\n",
       "  <thead>\n",
       "    <tr style=\"text-align: right;\">\n",
       "      <th></th>\n",
       "      <th>Durian</th>\n",
       "      <th>Bananas</th>\n",
       "      <th>Mangos</th>\n",
       "      <th>Persimmons</th>\n",
       "    </tr>\n",
       "  </thead>\n",
       "  <tbody>\n",
       "    <tr>\n",
       "      <th>Male</th>\n",
       "      <td>68</td>\n",
       "      <td>102</td>\n",
       "      <td>246</td>\n",
       "      <td>105</td>\n",
       "    </tr>\n",
       "    <tr>\n",
       "      <th>Female</th>\n",
       "      <td>86</td>\n",
       "      <td>88</td>\n",
       "      <td>216</td>\n",
       "      <td>89</td>\n",
       "    </tr>\n",
       "  </tbody>\n",
       "</table>\n",
       "</div>"
      ],
      "text/plain": [
       "        Durian  Bananas  Mangos  Persimmons\n",
       "Male        68      102     246         105\n",
       "Female      86       88     216          89"
      ]
     },
     "execution_count": 73,
     "metadata": {},
     "output_type": "execute_result"
    }
   ],
   "source": [
    "fruit_survey_df"
   ]
  },
  {
   "cell_type": "markdown",
   "id": "5e1e04c2",
   "metadata": {
    "cell_style": "split",
    "slideshow": {
     "slide_type": "fragment"
    }
   },
   "source": [
    "Our $X^2$ statistic now:\n",
    "\n",
    "$$ X^2 = \\sum_{ij} \\frac{(O_{ij} - E_{ij})^2}{E_{ij}} $$\n",
    "\n",
    "- $i$,$j$ index rows/columns"
   ]
  },
  {
   "cell_type": "markdown",
   "id": "4676a140",
   "metadata": {
    "slideshow": {
     "slide_type": "slide"
    }
   },
   "source": [
    "But how do we calculate the expected frequencies $E_{ij}$?\n",
    "- Not given any probabilities/expected frequencies for the null.\n",
    "- Can we estimate it from the data?"
   ]
  },
  {
   "cell_type": "code",
   "execution_count": 74,
   "id": "1e25d6da",
   "metadata": {
    "cell_style": "split",
    "slideshow": {
     "slide_type": "slide"
    }
   },
   "outputs": [
    {
     "data": {
      "text/html": [
       "<div>\n",
       "<style scoped>\n",
       "    .dataframe tbody tr th:only-of-type {\n",
       "        vertical-align: middle;\n",
       "    }\n",
       "\n",
       "    .dataframe tbody tr th {\n",
       "        vertical-align: top;\n",
       "    }\n",
       "\n",
       "    .dataframe thead th {\n",
       "        text-align: right;\n",
       "    }\n",
       "</style>\n",
       "<table border=\"1\" class=\"dataframe\">\n",
       "  <thead>\n",
       "    <tr style=\"text-align: right;\">\n",
       "      <th></th>\n",
       "      <th>Durian</th>\n",
       "      <th>Bananas</th>\n",
       "      <th>Mangos</th>\n",
       "      <th>Persimmons</th>\n",
       "    </tr>\n",
       "  </thead>\n",
       "  <tbody>\n",
       "    <tr>\n",
       "      <th>Male</th>\n",
       "      <td>68</td>\n",
       "      <td>102</td>\n",
       "      <td>246</td>\n",
       "      <td>105</td>\n",
       "    </tr>\n",
       "    <tr>\n",
       "      <th>Female</th>\n",
       "      <td>86</td>\n",
       "      <td>88</td>\n",
       "      <td>216</td>\n",
       "      <td>89</td>\n",
       "    </tr>\n",
       "  </tbody>\n",
       "</table>\n",
       "</div>"
      ],
      "text/plain": [
       "        Durian  Bananas  Mangos  Persimmons\n",
       "Male        68      102     246         105\n",
       "Female      86       88     216          89"
      ]
     },
     "execution_count": 74,
     "metadata": {},
     "output_type": "execute_result"
    }
   ],
   "source": [
    "fruit_survey_df"
   ]
  },
  {
   "cell_type": "markdown",
   "id": "fc2e353e",
   "metadata": {
    "cell_style": "split",
    "slideshow": {
     "slide_type": "fragment"
    }
   },
   "source": [
    "$E_{ij}$ would be the count if being male and female across the fruit categories doesn't matter. "
   ]
  },
  {
   "cell_type": "markdown",
   "id": "d59311b3",
   "metadata": {
    "cell_style": "split",
    "slideshow": {
     "slide_type": "fragment"
    }
   },
   "source": [
    "What if we sum male and female counts in each column up?\n"
   ]
  },
  {
   "cell_type": "code",
   "execution_count": 75,
   "id": "3dd9d518",
   "metadata": {
    "cell_style": "split",
    "slideshow": {
     "slide_type": "slide"
    }
   },
   "outputs": [
    {
     "data": {
      "text/plain": [
       "Durian        154\n",
       "Bananas       190\n",
       "Mangos        462\n",
       "Persimmons    194\n",
       "Name: All, dtype: int64"
      ]
     },
     "execution_count": 75,
     "metadata": {},
     "output_type": "execute_result"
    }
   ],
   "source": [
    "tot_fruit_count =fruit_survey_df.sum(axis = 0)\n",
    "tot_fruit_count.name = 'All'\n",
    "tot_fruit_count"
   ]
  },
  {
   "cell_type": "markdown",
   "id": "b3dd0f38",
   "metadata": {
    "cell_style": "split",
    "slideshow": {
     "slide_type": "fragment"
    }
   },
   "source": [
    "But this is just a count distribution over fruits assuming sex doesn't matter"
   ]
  },
  {
   "cell_type": "code",
   "execution_count": 82,
   "id": "c3b00f9f",
   "metadata": {
    "cell_style": "split",
    "slideshow": {
     "slide_type": "slide"
    }
   },
   "outputs": [
    {
     "data": {
      "text/html": [
       "<div>\n",
       "<style scoped>\n",
       "    .dataframe tbody tr th:only-of-type {\n",
       "        vertical-align: middle;\n",
       "    }\n",
       "\n",
       "    .dataframe tbody tr th {\n",
       "        vertical-align: top;\n",
       "    }\n",
       "\n",
       "    .dataframe thead th {\n",
       "        text-align: right;\n",
       "    }\n",
       "</style>\n",
       "<table border=\"1\" class=\"dataframe\">\n",
       "  <thead>\n",
       "    <tr style=\"text-align: right;\">\n",
       "      <th></th>\n",
       "      <th>Durian</th>\n",
       "      <th>Bananas</th>\n",
       "      <th>Mangos</th>\n",
       "      <th>Persimmons</th>\n",
       "    </tr>\n",
       "  </thead>\n",
       "  <tbody>\n",
       "    <tr>\n",
       "      <th>Male</th>\n",
       "      <td>68</td>\n",
       "      <td>102</td>\n",
       "      <td>246</td>\n",
       "      <td>105</td>\n",
       "    </tr>\n",
       "    <tr>\n",
       "      <th>Female</th>\n",
       "      <td>86</td>\n",
       "      <td>88</td>\n",
       "      <td>216</td>\n",
       "      <td>89</td>\n",
       "    </tr>\n",
       "    <tr>\n",
       "      <th>All</th>\n",
       "      <td>154</td>\n",
       "      <td>190</td>\n",
       "      <td>462</td>\n",
       "      <td>194</td>\n",
       "    </tr>\n",
       "  </tbody>\n",
       "</table>\n",
       "</div>"
      ],
      "text/plain": [
       "        Durian  Bananas  Mangos  Persimmons\n",
       "Male        68      102     246         105\n",
       "Female      86       88     216          89\n",
       "All        154      190     462         194"
      ]
     },
     "execution_count": 82,
     "metadata": {},
     "output_type": "execute_result"
    }
   ],
   "source": [
    "# Adding tally to our dataframe\n",
    "fruit_survey_df.loc['All'] = tot_fruit_count\n",
    "fruit_survey_df"
   ]
  },
  {
   "cell_type": "markdown",
   "id": "ed56b93f",
   "metadata": {
    "cell_style": "split",
    "slideshow": {
     "slide_type": "slide"
    }
   },
   "source": [
    "Now, if the number of male and female respondents the same:\n",
    "- Then we would have the same values in each row for a given column.\n",
    "- Counts would be split 50/50\n",
    "- But the number of male and female respondents are not equal."
   ]
  },
  {
   "cell_type": "code",
   "execution_count": 86,
   "id": "8d3b0a22",
   "metadata": {
    "cell_style": "split",
    "slideshow": {
     "slide_type": "fragment"
    }
   },
   "outputs": [
    {
     "data": {
      "text/plain": [
       "Male       521\n",
       "Female     479\n",
       "All       1000\n",
       "dtype: int64"
      ]
     },
     "execution_count": 86,
     "metadata": {},
     "output_type": "execute_result"
    }
   ],
   "source": [
    "# Totalnumber of males and females\n",
    "sex_count = fruit_survey_df.sum(axis = 1)\n",
    "sex_count"
   ]
  },
  {
   "cell_type": "code",
   "execution_count": 87,
   "id": "dc063830",
   "metadata": {
    "cell_style": "split",
    "slideshow": {
     "slide_type": "fragment"
    }
   },
   "outputs": [
    {
     "data": {
      "text/plain": [
       "1000"
      ]
     },
     "execution_count": 87,
     "metadata": {},
     "output_type": "execute_result"
    }
   ],
   "source": [
    "#  sanity check:\n",
    "tot_fruit_count.sum()"
   ]
  },
  {
   "cell_type": "code",
   "execution_count": 88,
   "id": "ab39cfea",
   "metadata": {
    "cell_style": "split",
    "slideshow": {
     "slide_type": "subslide"
    }
   },
   "outputs": [
    {
     "data": {
      "text/html": [
       "<div>\n",
       "<style scoped>\n",
       "    .dataframe tbody tr th:only-of-type {\n",
       "        vertical-align: middle;\n",
       "    }\n",
       "\n",
       "    .dataframe tbody tr th {\n",
       "        vertical-align: top;\n",
       "    }\n",
       "\n",
       "    .dataframe thead th {\n",
       "        text-align: right;\n",
       "    }\n",
       "</style>\n",
       "<table border=\"1\" class=\"dataframe\">\n",
       "  <thead>\n",
       "    <tr style=\"text-align: right;\">\n",
       "      <th></th>\n",
       "      <th>Durian</th>\n",
       "      <th>Bananas</th>\n",
       "      <th>Mangos</th>\n",
       "      <th>Persimmons</th>\n",
       "      <th>Sex_Count</th>\n",
       "    </tr>\n",
       "  </thead>\n",
       "  <tbody>\n",
       "    <tr>\n",
       "      <th>Male</th>\n",
       "      <td>68</td>\n",
       "      <td>102</td>\n",
       "      <td>246</td>\n",
       "      <td>105</td>\n",
       "      <td>521</td>\n",
       "    </tr>\n",
       "    <tr>\n",
       "      <th>Female</th>\n",
       "      <td>86</td>\n",
       "      <td>88</td>\n",
       "      <td>216</td>\n",
       "      <td>89</td>\n",
       "      <td>479</td>\n",
       "    </tr>\n",
       "    <tr>\n",
       "      <th>All</th>\n",
       "      <td>154</td>\n",
       "      <td>190</td>\n",
       "      <td>462</td>\n",
       "      <td>194</td>\n",
       "      <td>1000</td>\n",
       "    </tr>\n",
       "  </tbody>\n",
       "</table>\n",
       "</div>"
      ],
      "text/plain": [
       "        Durian  Bananas  Mangos  Persimmons  Sex_Count\n",
       "Male        68      102     246         105        521\n",
       "Female      86       88     216          89        479\n",
       "All        154      190     462         194       1000"
      ]
     },
     "execution_count": 88,
     "metadata": {},
     "output_type": "execute_result"
    }
   ],
   "source": [
    "# append total tally by sex:\n",
    "fruit_survey_df['Sex_Count'] = sex_count\n",
    "fruit_survey_df"
   ]
  },
  {
   "cell_type": "markdown",
   "id": "2dbbf061",
   "metadata": {
    "heading_collapsed": true,
    "hidden": true,
    "slideshow": {
     "slide_type": "slide"
    }
   },
   "source": [
    "#### Getting Our Expected Frequencies"
   ]
  },
  {
   "cell_type": "markdown",
   "id": "2277919d",
   "metadata": {
    "cell_style": "split",
    "hidden": true,
    "slideshow": {
     "slide_type": "subslide"
    }
   },
   "source": [
    "Multiply count in each fruit bin by probability male or female:\n",
    "\n",
    " $$N_{Fruit}p_{Sex}$$\n",
    " \n",
    " - Number of counts for each fruit assuming sex doesn't matter multiplied by fraction of sex in total population."
   ]
  },
  {
   "cell_type": "markdown",
   "id": "10bf159c",
   "metadata": {
    "cell_style": "split",
    "slideshow": {
     "slide_type": "fragment"
    }
   },
   "source": [
    "- This is our $E_{ij}$!\n",
    "- Assumes fruit selection and sex are independent: our null."
   ]
  },
  {
   "cell_type": "markdown",
   "id": "00a39302",
   "metadata": {
    "slideshow": {
     "slide_type": "slide"
    }
   },
   "source": [
    "#### Compute expected frequency table"
   ]
  },
  {
   "cell_type": "code",
   "execution_count": 121,
   "id": "8d77d5c0",
   "metadata": {
    "slideshow": {
     "slide_type": "fragment"
    }
   },
   "outputs": [
    {
     "data": {
      "text/plain": [
       "Male      0.521\n",
       "Female    0.479\n",
       "All       1.000\n",
       "Name: Sex_Count, dtype: float64"
      ]
     },
     "execution_count": 121,
     "metadata": {},
     "output_type": "execute_result"
    }
   ],
   "source": [
    "# get probability of drawing a respondent of a given sex\n",
    "probability_sex = fruit_survey_df['Sex_Count']/fruit_survey_df.loc['All','Sex_Count']\n",
    "probability_sex"
   ]
  },
  {
   "cell_type": "code",
   "execution_count": 122,
   "id": "9ed49de7",
   "metadata": {},
   "outputs": [
    {
     "data": {
      "text/plain": [
       "Durian        154\n",
       "Bananas       190\n",
       "Mangos        462\n",
       "Persimmons    194\n",
       "Name: All, dtype: int64"
      ]
     },
     "execution_count": 122,
     "metadata": {},
     "output_type": "execute_result"
    }
   ],
   "source": [
    "fruit_survey_df.loc['All', 'Durian':'Persimmons']"
   ]
  },
  {
   "cell_type": "code",
   "execution_count": 120,
   "id": "b77cc3ed",
   "metadata": {
    "slideshow": {
     "slide_type": "subslide"
    }
   },
   "outputs": [
    {
     "data": {
      "text/html": [
       "<div>\n",
       "<style scoped>\n",
       "    .dataframe tbody tr th:only-of-type {\n",
       "        vertical-align: middle;\n",
       "    }\n",
       "\n",
       "    .dataframe tbody tr th {\n",
       "        vertical-align: top;\n",
       "    }\n",
       "\n",
       "    .dataframe thead th {\n",
       "        text-align: right;\n",
       "    }\n",
       "</style>\n",
       "<table border=\"1\" class=\"dataframe\">\n",
       "  <thead>\n",
       "    <tr style=\"text-align: right;\">\n",
       "      <th></th>\n",
       "      <th>Durian</th>\n",
       "      <th>Bananas</th>\n",
       "      <th>Mangos</th>\n",
       "      <th>Persimmons</th>\n",
       "    </tr>\n",
       "  </thead>\n",
       "  <tbody>\n",
       "    <tr>\n",
       "      <th>Male</th>\n",
       "      <td>80.234</td>\n",
       "      <td>98.99</td>\n",
       "      <td>240.702</td>\n",
       "      <td>101.074</td>\n",
       "    </tr>\n",
       "    <tr>\n",
       "      <th>Female</th>\n",
       "      <td>73.766</td>\n",
       "      <td>91.01</td>\n",
       "      <td>221.298</td>\n",
       "      <td>92.926</td>\n",
       "    </tr>\n",
       "  </tbody>\n",
       "</table>\n",
       "</div>"
      ],
      "text/plain": [
       "        Durian  Bananas   Mangos  Persimmons\n",
       "Male    80.234    98.99  240.702     101.074\n",
       "Female  73.766    91.01  221.298      92.926"
      ]
     },
     "execution_count": 120,
     "metadata": {},
     "output_type": "execute_result"
    }
   ],
   "source": [
    "#calculated expected values for male and female\n",
    "male_expected = fruit_survey_df.loc['All', 'Durian':'Persimmons']*probability_sex['Male']\n",
    "female_expected = fruit_survey_df.loc['All', 'Durian':'Persimmons']*probability_sex['Female']\n",
    "\n",
    "#create the expected table\n",
    "expected_table = pd.concat([male_expected, female_expected], axis=1).T\n",
    "expected_table.index = ['Male', 'Female']\n",
    "expected_table"
   ]
  },
  {
   "cell_type": "code",
   "execution_count": 92,
   "id": "92f409e0",
   "metadata": {
    "slideshow": {
     "slide_type": "fragment"
    }
   },
   "outputs": [
    {
     "data": {
      "text/html": [
       "<div>\n",
       "<style scoped>\n",
       "    .dataframe tbody tr th:only-of-type {\n",
       "        vertical-align: middle;\n",
       "    }\n",
       "\n",
       "    .dataframe tbody tr th {\n",
       "        vertical-align: top;\n",
       "    }\n",
       "\n",
       "    .dataframe thead th {\n",
       "        text-align: right;\n",
       "    }\n",
       "</style>\n",
       "<table border=\"1\" class=\"dataframe\">\n",
       "  <thead>\n",
       "    <tr style=\"text-align: right;\">\n",
       "      <th></th>\n",
       "      <th>Durian</th>\n",
       "      <th>Bananas</th>\n",
       "      <th>Mangos</th>\n",
       "      <th>Persimmons</th>\n",
       "    </tr>\n",
       "  </thead>\n",
       "  <tbody>\n",
       "    <tr>\n",
       "      <th>Male</th>\n",
       "      <td>68</td>\n",
       "      <td>102</td>\n",
       "      <td>246</td>\n",
       "      <td>105</td>\n",
       "    </tr>\n",
       "    <tr>\n",
       "      <th>Female</th>\n",
       "      <td>86</td>\n",
       "      <td>88</td>\n",
       "      <td>216</td>\n",
       "      <td>89</td>\n",
       "    </tr>\n",
       "  </tbody>\n",
       "</table>\n",
       "</div>"
      ],
      "text/plain": [
       "        Durian  Bananas  Mangos  Persimmons\n",
       "Male        68      102     246         105\n",
       "Female      86       88     216          89"
      ]
     },
     "execution_count": 92,
     "metadata": {},
     "output_type": "execute_result"
    }
   ],
   "source": [
    "fruit_survey_orig"
   ]
  },
  {
   "cell_type": "markdown",
   "id": "51a138d7",
   "metadata": {
    "cell_style": "center",
    "hidden": true,
    "slideshow": {
     "slide_type": "slide"
    }
   },
   "source": [
    "Now that we have both our observed and the expected frequencies.\n",
    "\n",
    "Construct our $X^2$ statistic:\n",
    "\n",
    " $$ X^2 =  \\sum_{ij}\\frac{(O_{ij} - E_{ij})^2}{E_{ij}} $$"
   ]
  },
  {
   "cell_type": "code",
   "execution_count": 125,
   "id": "36172b6b",
   "metadata": {
    "cell_style": "center",
    "slideshow": {
     "slide_type": "fragment"
    }
   },
   "outputs": [
    {
     "name": "stdout",
     "output_type": "stream",
     "text": [
      "          Durian   Bananas    Mangos  Persimmons\n",
      "Male    1.865428  0.091525  0.116612    0.152497\n",
      "Female  2.028994  0.099551  0.126837    0.165868\n"
     ]
    },
    {
     "data": {
      "text/plain": [
       "4.647312487410249"
      ]
     },
     "execution_count": 125,
     "metadata": {},
     "output_type": "execute_result"
    }
   ],
   "source": [
    "inter_table = (fruit_survey_orig - expected_table)**2/expected_table\n",
    "Xsquared_ind = inter_table.to_numpy().sum()\n",
    "print(inter_table)\n",
    "Xsquared_ind"
   ]
  },
  {
   "cell_type": "markdown",
   "id": "7884f2a3",
   "metadata": {
    "hidden": true,
    "slideshow": {
     "slide_type": "slide"
    }
   },
   "source": [
    "For this test of independence, also need to specify degrees of freedom for the distribution:\n",
    "\n",
    "$$ df = (r - 1)(c -1) $$\n",
    "$df=(2-1)\\cdot(4-1)=3$."
   ]
  },
  {
   "cell_type": "code",
   "execution_count": 94,
   "id": "ca3e89f2",
   "metadata": {
    "slideshow": {
     "slide_type": "fragment"
    }
   },
   "outputs": [],
   "source": [
    "degrees_of_freedom = 3"
   ]
  },
  {
   "cell_type": "markdown",
   "id": "8434b6c2",
   "metadata": {
    "hidden": true,
    "slideshow": {
     "slide_type": "slide"
    }
   },
   "source": [
    "Plot chi-squared distribution with df = 3 with our statistic: "
   ]
  },
  {
   "cell_type": "code",
   "execution_count": 97,
   "id": "bddb6066",
   "metadata": {
    "hidden": true,
    "slideshow": {
     "slide_type": "skip"
    }
   },
   "outputs": [],
   "source": [
    "%%capture plot_independence_test\n",
    "from scipy import stats\n",
    "\n",
    "\n",
    "x = np.linspace(\n",
    "        stats.chi2.ppf(0.000001, degrees_of_freedom),\n",
    "        stats.chi2.ppf(0.9999, degrees_of_freedom), \n",
    "        500\n",
    ")\n",
    "\n",
    "    \n",
    "f, ax = plt.subplots()\n",
    "ax.set_title('chi^2 w/ df=3')\n",
    "ax.plot(x, stats.chi2.pdf(x, degrees_of_freedom), 'r-', lw=5)\n",
    "# Chi-square statistic\n",
    "ax.axvline(Xsquared_ind, ls='--', c='b', label='chi^2=4.65')\n",
    "ax.legend()\n",
    "plt.tight_layout()"
   ]
  },
  {
   "cell_type": "code",
   "execution_count": 98,
   "id": "49138ffb",
   "metadata": {
    "scrolled": false,
    "slideshow": {
     "slide_type": "fragment"
    }
   },
   "outputs": [
    {
     "data": {
      "image/png": "[encoded data removed]",
      "text/plain": [
       "<Figure size 640x480 with 1 Axes>"
      ]
     },
     "metadata": {},
     "output_type": "display_data"
    }
   ],
   "source": [
    "plot_independence_test()"
   ]
  },
  {
   "cell_type": "code",
   "execution_count": 99,
   "id": "b3acf16e",
   "metadata": {
    "slideshow": {
     "slide_type": "slide"
    }
   },
   "outputs": [
    {
     "data": {
      "text/plain": [
       "0.19952075187952747"
      ]
     },
     "execution_count": 99,
     "metadata": {},
     "output_type": "execute_result"
    }
   ],
   "source": [
    "# Note we subract since we want the area to the right of the statistic\n",
    "p = stats.chi2.sf(Xsquared_ind, df=degrees_of_freedom)\n",
    "p"
   ]
  },
  {
   "cell_type": "markdown",
   "id": "42ae79b6",
   "metadata": {
    "hidden": true,
    "slideshow": {
     "slide_type": "fragment"
    }
   },
   "source": [
    "So in this case, we cannot reject the null hypothesis that sex and fruit type are independent."
   ]
  },
  {
   "cell_type": "markdown",
   "id": "b507cb0d",
   "metadata": {
    "heading_collapsed": true,
    "hidden": true,
    "slideshow": {
     "slide_type": "slide"
    }
   },
   "source": [
    "#### Now that you understand it, how to do it fast..."
   ]
  },
  {
   "cell_type": "markdown",
   "id": "02e20bfe",
   "metadata": {
    "hidden": true,
    "slideshow": {
     "slide_type": "subslide"
    }
   },
   "source": [
    "And of course there's a SciPy method for this: [`scipy.stats.chi2_contingency`](https://docs.scipy.org/doc/scipy/reference/generated/scipy.stats.chi2_contingency.html)"
   ]
  },
  {
   "cell_type": "code",
   "execution_count": 126,
   "id": "193a004f",
   "metadata": {
    "hidden": true,
    "scrolled": false,
    "slideshow": {
     "slide_type": "fragment"
    }
   },
   "outputs": [
    {
     "data": {
      "text/plain": [
       "Chi2ContingencyResult(statistic=4.647312487410241, pvalue=0.19952075187952803, dof=3, expected_freq=array([[ 80.234,  98.99 , 240.702, 101.074],\n",
       "       [ 73.766,  91.01 , 221.298,  92.926]]))"
      ]
     },
     "execution_count": 126,
     "metadata": {},
     "output_type": "execute_result"
    }
   ],
   "source": [
    "result = stats.contingency.chi2_contingency(fruit_survey_orig)\n",
    "chi, p, dof, exp = result\n",
    "result"
   ]
  },
  {
   "cell_type": "code",
   "execution_count": 127,
   "id": "1eea0934",
   "metadata": {},
   "outputs": [
    {
     "data": {
      "text/html": [
       "<div>\n",
       "<style scoped>\n",
       "    .dataframe tbody tr th:only-of-type {\n",
       "        vertical-align: middle;\n",
       "    }\n",
       "\n",
       "    .dataframe tbody tr th {\n",
       "        vertical-align: top;\n",
       "    }\n",
       "\n",
       "    .dataframe thead th {\n",
       "        text-align: right;\n",
       "    }\n",
       "</style>\n",
       "<table border=\"1\" class=\"dataframe\">\n",
       "  <thead>\n",
       "    <tr style=\"text-align: right;\">\n",
       "      <th></th>\n",
       "      <th>Durian</th>\n",
       "      <th>Bananas</th>\n",
       "      <th>Mangos</th>\n",
       "      <th>Persimmons</th>\n",
       "    </tr>\n",
       "  </thead>\n",
       "  <tbody>\n",
       "    <tr>\n",
       "      <th>Male</th>\n",
       "      <td>80.234</td>\n",
       "      <td>98.99</td>\n",
       "      <td>240.702</td>\n",
       "      <td>101.074</td>\n",
       "    </tr>\n",
       "    <tr>\n",
       "      <th>Female</th>\n",
       "      <td>73.766</td>\n",
       "      <td>91.01</td>\n",
       "      <td>221.298</td>\n",
       "      <td>92.926</td>\n",
       "    </tr>\n",
       "  </tbody>\n",
       "</table>\n",
       "</div>"
      ],
      "text/plain": [
       "        Durian  Bananas   Mangos  Persimmons\n",
       "Male    80.234    98.99  240.702     101.074\n",
       "Female  73.766    91.01  221.298      92.926"
      ]
     },
     "execution_count": 127,
     "metadata": {},
     "output_type": "execute_result"
    }
   ],
   "source": [
    "expected_table"
   ]
  }
 ],
 "metadata": {
  "celltoolbar": "Slideshow",
  "kernelspec": {
   "display_name": "Python 3",
   "language": "python",
   "name": "python3"
  },
  "language_info": {
   "codemirror_mode": {
    "name": "ipython",
    "version": 3
   },
   "file_extension": ".py",
   "mimetype": "text/x-python",
   "name": "python",
   "nbconvert_exporter": "python",
   "pygments_lexer": "ipython3",
   "version": "3.8.5"
  }
 },
 "nbformat": 4,
 "nbformat_minor": 5
}
