{
 "cells": [
  {
   "cell_type": "code",
   "execution_count": 12,
   "metadata": {},
   "outputs": [
    {
     "name": "stdout",
     "output_type": "stream",
     "text": [
      "[5, 7, 9, 8]\n"
     ]
    }
   ],
   "source": [
    "data = [1,2,3,5,7,9,8]\n",
    "\n",
    "large_val = []\n",
    "\n",
    "for x in data:\n",
    "    if x > 3:\n",
    "\n",
    "        large_val.append(x)\n",
    "\n",
    "print(large_val)"
   ]
  },
  {
   "cell_type": "code",
   "execution_count": 23,
   "metadata": {},
   "outputs": [
    {
     "name": "stdout",
     "output_type": "stream",
     "text": [
      "[5, 7, 9, 8]\n"
     ]
    }
   ],
   "source": [
    "#list comprehension\n",
    "\n",
    "data\n",
    "\n",
    "large_values = [x for x in data if x > 3]\n",
    "\n",
    "print(large_values)"
   ]
  },
  {
   "cell_type": "code",
   "execution_count": 25,
   "metadata": {},
   "outputs": [
    {
     "name": "stdout",
     "output_type": "stream",
     "text": [
      "[10, 14, 18, 16]\n"
     ]
    }
   ],
   "source": [
    "#doubling the list comprehension value\n",
    "\n",
    "double_list_vals = [2*x for x in data if x > 3]\n",
    "\n",
    "print(double_list_vals)\n"
   ]
  },
  {
   "cell_type": "code",
   "execution_count": 32,
   "metadata": {},
   "outputs": [
    {
     "name": "stdout",
     "output_type": "stream",
     "text": [
      "{2: 11, 4: 8, 6: 15}\n"
     ]
    }
   ],
   "source": [
    "# creating a dictonary from lists using for loop\n",
    "\n",
    "indice, data = [2,4,6],[11,8,15]\n",
    "zipped = zip(indice,data)\n",
    "\n",
    "paired = {}\n",
    "\n",
    "for x,y in zipped:\n",
    "    paired[x] = y\n",
    "    \n",
    "print(paired)"
   ]
  },
  {
   "cell_type": "code",
   "execution_count": 33,
   "metadata": {},
   "outputs": [
    {
     "data": {
      "text/plain": [
       "{2: 11, 4: 8, 6: 15}"
      ]
     },
     "execution_count": 33,
     "metadata": {},
     "output_type": "execute_result"
    }
   ],
   "source": [
    "#creating a dictonary from lists using Dictionary comprehension\n",
    "\n",
    "zipped = zip(indice,data)\n",
    "\n",
    "paired_dict_comp = {x:y for x , y in zipped}\n",
    "\n",
    "paired_dict_comp"
   ]
  },
  {
   "cell_type": "code",
   "execution_count": 34,
   "metadata": {},
   "outputs": [
    {
     "data": {
      "text/plain": [
       "{1: 33, 2: 24, 3: 45}"
      ]
     },
     "execution_count": 34,
     "metadata": {},
     "output_type": "execute_result"
    }
   ],
   "source": [
    "# transforming \"indice, data\" list in to \"keys\" and \"values\" using for loops\n",
    "\n",
    "zipped = zip(indice,data)\n",
    "\n",
    "transform = {}\n",
    "\n",
    "for x,y in zipped:\n",
    "    \n",
    "    #dividing indice/2 multiplying data*3 \n",
    "    transform[x//2] = y*3\n",
    "    \n",
    "transform"
   ]
  },
  {
   "cell_type": "code",
   "execution_count": 36,
   "metadata": {},
   "outputs": [
    {
     "data": {
      "text/plain": [
       "{1: 33, 2: 24, 3: 45}"
      ]
     },
     "execution_count": 36,
     "metadata": {},
     "output_type": "execute_result"
    }
   ],
   "source": [
    "# transforming \"indice, data\" list in to \"keys\" and \"values\" using dict comprehension\n",
    "\n",
    "zipped = zip(indice,data)\n",
    "\n",
    "transform_dict_comp = {x//2: y*3 for x,y in zipped}\n",
    "\n",
    "transform_dict_comp"
   ]
  },
  {
   "cell_type": "code",
   "execution_count": null,
   "metadata": {},
   "outputs": [],
   "source": []
  }
 ],
 "metadata": {
  "kernelspec": {
   "display_name": "Python (learn-env)",
   "language": "python",
   "name": "learn-env"
  },
  "language_info": {
   "codemirror_mode": {
    "name": "ipython",
    "version": 3
   },
   "file_extension": ".py",
   "mimetype": "text/x-python",
   "name": "python",
   "nbconvert_exporter": "python",
   "pygments_lexer": "ipython3",
   "version": "3.8.5"
  }
 },
 "nbformat": 4,
 "nbformat_minor": 4
}
