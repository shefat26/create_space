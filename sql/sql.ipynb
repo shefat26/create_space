{
 "cells": [
  {
   "cell_type": "code",
   "execution_count": 5,
   "metadata": {},
   "outputs": [
    {
     "ename": "OperationalError",
     "evalue": "unable to open database file",
     "output_type": "error",
     "traceback": [
      "\u001b[1;31m---------------------------------------------------------------------------\u001b[0m",
      "\u001b[1;31mOperationalError\u001b[0m                          Traceback (most recent call last)",
      "\u001b[1;32m<ipython-input-5-ade4b054dc41>\u001b[0m in \u001b[0;36m<module>\u001b[1;34m\u001b[0m\n\u001b[0;32m      2\u001b[0m \u001b[1;32mimport\u001b[0m \u001b[0msqlite3\u001b[0m\u001b[1;33m\u001b[0m\u001b[1;33m\u001b[0m\u001b[0m\n\u001b[0;32m      3\u001b[0m \u001b[1;32mimport\u001b[0m \u001b[0mpandas\u001b[0m \u001b[1;32mas\u001b[0m \u001b[0mpd\u001b[0m\u001b[1;33m\u001b[0m\u001b[1;33m\u001b[0m\u001b[0m\n\u001b[1;32m----> 4\u001b[1;33m \u001b[0mconn\u001b[0m \u001b[1;33m=\u001b[0m \u001b[0msqlite3\u001b[0m\u001b[1;33m.\u001b[0m\u001b[0mconnect\u001b[0m\u001b[1;33m(\u001b[0m\u001b[1;34m\"data/flights.db\"\u001b[0m\u001b[1;33m)\u001b[0m\u001b[1;33m\u001b[0m\u001b[1;33m\u001b[0m\u001b[0m\n\u001b[0m\u001b[0;32m      5\u001b[0m \u001b[0mcur\u001b[0m \u001b[1;33m=\u001b[0m \u001b[0mconn\u001b[0m\u001b[1;33m.\u001b[0m\u001b[0mcursor\u001b[0m\u001b[1;33m(\u001b[0m\u001b[1;33m)\u001b[0m\u001b[1;33m\u001b[0m\u001b[1;33m\u001b[0m\u001b[0m\n",
      "\u001b[1;31mOperationalError\u001b[0m: unable to open database file"
     ]
    }
   ],
   "source": [
    "import pandas as pd\n",
    "import sqlite3\n",
    "import pandas as pd\n",
    "conn = sqlite3.connect(\"data/flights.db\")\n",
    "cur = conn.cursor()"
   ]
  },
  {
   "cell_type": "code",
   "execution_count": 6,
   "metadata": {},
   "outputs": [
    {
     "ename": "SyntaxError",
     "evalue": "invalid syntax (<ipython-input-6-36b42c7e0d8e>, line 2)",
     "output_type": "error",
     "traceback": [
      "\u001b[1;36m  File \u001b[1;32m\"<ipython-input-6-36b42c7e0d8e>\"\u001b[1;36m, line \u001b[1;32m2\u001b[0m\n\u001b[1;33m    SELECT genre\u001b[0m\n\u001b[1;37m           ^\u001b[0m\n\u001b[1;31mSyntaxError\u001b[0m\u001b[1;31m:\u001b[0m invalid syntax\n"
     ]
    }
   ],
   "source": [
    "#Select the first 10 genres from books using PostgreSQL\n",
    "SELECT genre \n",
    "FROM books \n",
    "LIMIT 10"
   ]
  },
  {
   "cell_type": "code",
   "execution_count": null,
   "metadata": {},
   "outputs": [],
   "source": [
    "\n",
    "\n",
    "#Count the total number of records in the people table, aliasing the result as count_records.\n",
    "#Count the number of records in the people table\n",
    "\n",
    "SELECT COUNT(*) AS count_recordS\n",
    "FROM people\n",
    "\n",
    "# Count the number of records with a birthdate in the people table, aliasing the result as count_birthdate.\n",
    "SELECT COUNT(birthdate) AS count_birthdate\n",
    "FROM people\n",
    "\n",
    "\n",
    "#Count the records for languages and countries in the films table; alias as count_languages and count_countries.\n",
    "#Count the records for languages and countries represented in the films table\n",
    "\n",
    "\n",
    "SELECT COUNT(DISTINCT language) AS count_languages, \n",
    "       COUNT(DISTINCT country) AS count_countries\n",
    "FROM films\n",
    "\n",
    "#Return the unique countries represented in the films table using DISTINCT.\n",
    "SELECT DISTINCT country\n",
    "FROM films;\n",
    "\n",
    "\n",
    "#Count the distinct countries from the films table\n",
    "\n",
    "SELECT COUNT(DISTINCT country) AS count_distinct_countries\n",
    "FROM films"
   ]
  },
  {
   "cell_type": "code",
   "execution_count": null,
   "metadata": {},
   "outputs": [],
   "source": []
  },
  {
   "cell_type": "code",
   "execution_count": 3,
   "metadata": {},
   "outputs": [
    {
     "ename": "SyntaxError",
     "evalue": "invalid syntax (<ipython-input-3-9b215f022a55>, line 3)",
     "output_type": "error",
     "traceback": [
      "\u001b[1;36m  File \u001b[1;32m\"<ipython-input-3-9b215f022a55>\"\u001b[1;36m, line \u001b[1;32m3\u001b[0m\n\u001b[1;33m    SELECT film_id, imdb_score\u001b[0m\n\u001b[1;37m           ^\u001b[0m\n\u001b[1;31mSyntaxError\u001b[0m\u001b[1;31m:\u001b[0m invalid syntax\n"
     ]
    }
   ],
   "source": [
    "\n",
    "\n",
    "\n",
    "#Select the film_id and imdb_score from the reviews table and filter on scores higher than 7.0.\n",
    "\n",
    "SELECT film_id, imdb_score\n",
    "FROM reviews\n",
    "WHERE imdb_score>7.0\n",
    "\n",
    "#Select the film_id and facebook_likes of the first ten records with less than 1000 likes from the reviews table.\n",
    "\n",
    "SELECT film_id,facebook_likes\n",
    "FROM reviews\n",
    "WHERE facebook_likes<1000\n",
    "LIMIT 10\n",
    "\n",
    "\n",
    "#Count how many records have a num_votes of at least 100,000; use the alias films_over_100K_votes.\n",
    "\n",
    "SELECT COUNT(num_votes) AS films_over_100K_votes\n",
    "FROM reviews\n",
    "WHERE  num_votes >= 100000\n",
    "\n",
    "\n",
    "#Select and count the language field using the alias count_spanish.\n",
    "#Apply a filter to select only Spanish from the language field.\n",
    "\n",
    "SELECT COUNT(language) AS count_spanish\n",
    "FROM films\n",
    "WHERE language = 'Spanish';\n"
   ]
  },
  {
   "cell_type": "code",
   "execution_count": null,
   "metadata": {},
   "outputs": [],
   "source": []
  },
  {
   "cell_type": "code",
   "execution_count": null,
   "metadata": {},
   "outputs": [],
   "source": [
    "# 'AND', 'OR', 'BETWEEN'\n",
    "\n",
    "#Select the title and release_year for all German-language films released before 2000.\n",
    "\n",
    "SELECT title, release_year\n",
    "FROM films\n",
    "WHERE language = 'German'\n",
    "AND release_year < 2000\n",
    "\n",
    "\n",
    "\n",
    "#Update the query from the previous step to show German-language films released after 2000 rather than before.\n",
    "\n",
    "\n",
    "SELECT *\n",
    "FROM films\n",
    "WHERE language = 'German'\n",
    "AND   release_year > 2000 ;\n",
    "\n",
    "\n",
    "#Select all details for German-language films released after 2000 but before 2010 using only WHERE and AND.\n",
    "\n",
    "\n",
    "SELECT *\n",
    "FROM films\n",
    "WHERE language = 'German'\n",
    "AND release_year > 2000 \n",
    "AND release_year <2010;\n",
    "\n",
    "\n",
    "\n",
    "#Select the title and release_year for films released in 1990 or 1999 using only WHERE and OR.\n",
    "\n",
    "    \n",
    "SELECT title, release_year\n",
    "FROM films\n",
    "WHERE (release_year = 1990 OR release_year = 1999)\n",
    "\n",
    "# Add a filter to see only English or Spanish-language films\n",
    "AND (language = 'English' OR language = 'Spanish');\n",
    "\n",
    "#-- Filter films with more than $2,000,000 gross\n",
    "AND  gross>2000000;\n",
    "\n",
    "\n"
   ]
  },
  {
   "cell_type": "code",
   "execution_count": null,
   "metadata": {},
   "outputs": [],
   "source": []
  },
  {
   "cell_type": "code",
   "execution_count": null,
   "metadata": {},
   "outputs": [],
   "source": [
    "#Select the title and release_year of all films released between 1990 and 2000 (inclusive) using BETWEEN.\n",
    "\n",
    "SELECT title, release_year\n",
    "FROM films\n",
    "Where release_year BETWEEN 1990 AND 2000\n",
    "\n",
    "#Build on your previous query to select only films with a budget over $100 million.\n",
    "AND budget>100000000;\n",
    "\n",
    "#Restrict the query to only Spanish-language films\n",
    "AND language = 'Spanish';\n",
    "\n",
    "#Amend the query to include Spanish or French-language films\n",
    "AND (language = 'Spanish' OR language = 'French');"
   ]
  },
  {
   "cell_type": "code",
   "execution_count": null,
   "metadata": {},
   "outputs": [],
   "source": []
  },
  {
   "cell_type": "code",
   "execution_count": 4,
   "metadata": {},
   "outputs": [],
   "source": [
    "#"
   ]
  },
  {
   "cell_type": "code",
   "execution_count": null,
   "metadata": {},
   "outputs": [],
   "source": [
    "#use of \"LIKE\" and  \"NOT LIKE\"\n",
    "\n",
    "#Select the names of all people whose names begin with 'B'.\n",
    "\n",
    "SELECT name\n",
    "FROM people\n",
    "WHERE name LIKE 'B_ _%'\n",
    "\n",
    "#Select the names of people whose names have 'r' as the second letter.\n",
    "\n",
    "SELECT name\n",
    "FROM people\n",
    "WHERE name Like '_r%'\n",
    "\n",
    "#Select the names of people whose names don't start with 'A'.\n",
    "\n",
    "SELECT name\n",
    "FROM people\n",
    "#Select names that don't start with A\n",
    "WHERE name NOT LIKE 'A__%'"
   ]
  },
  {
   "cell_type": "code",
   "execution_count": null,
   "metadata": {},
   "outputs": [],
   "source": [
    "#using \"BETWEEN\", \"IN\", \"AND\", \n",
    "\n",
    "\n",
    "#Select the title and release_year of all films released in 1990 or 2000 that were longer than two hours.\n",
    "#Find the title and release_year for all films over two hours in length released in 1990 and 2000\n",
    "SELECT title, release_year\n",
    "FROM films \n",
    "WHERE release_year IN (1990, 2000)\n",
    "AND duration > 120\n",
    "\n",
    "\n",
    "#Select the title and language of all films in English, Spanish, or French using IN.\n",
    "#-- Find the title and language of all films in English, Spanish, and French\n",
    "SELECT title, language\n",
    "FROM films\n",
    "Where language IN ('English','Spanish','French')\n",
    "\n",
    "\n",
    "#Select the title, certification and language of all films certified NC-17 or R that are in English, Italian, or Greek.\n",
    "#-- Find the title, certification, and language all films certified NC-17 or R that are in English, Italian, or Greek\n",
    "\n",
    "SELECT title, certification, language\n",
    "FROM films\n",
    "WHERE certification IN ('NC-17', 'R')\n",
    "AND language IN ('English','Italian','Greek')\n",
    "\n",
    "\n",
    "#Count the unique titles from the films database and use the alias provided.\n",
    "#Filter to include only movies with a release_year from 1990 to 1999, inclusive.\n",
    "#Add another filter narrowing your query down to English-language films.\n",
    "#Add a final filter to select only films with 'G', 'PG', 'PG-13' certifications.\n",
    "\n",
    "#-- Count the unique titles\n",
    "SELECT COUNT(DISTINCT title) AS nineties_english_films_for_teens\n",
    "FROM films\n",
    "#-- Filter to release_years to between 1990 and 1999\n",
    "WHERE release_year BETWEEN 1990 AND 1999\n",
    "#-- Filter to English-language films\n",
    "AND language = 'English'\n",
    "#-- Narrow it down to G, PG, and PG-13 certifications\n",
    "AND  certification IN ('G','PG','PG-13');\n",
    "\n",
    "\n",
    "\n",
    "\n",
    "\n"
   ]
  },
  {
   "cell_type": "code",
   "execution_count": null,
   "metadata": {},
   "outputs": [],
   "source": []
  },
  {
   "cell_type": "code",
   "execution_count": null,
   "metadata": {},
   "outputs": [],
   "source": []
  },
  {
   "cell_type": "code",
   "execution_count": null,
   "metadata": {},
   "outputs": [],
   "source": []
  },
  {
   "cell_type": "code",
   "execution_count": null,
   "metadata": {},
   "outputs": [],
   "source": []
  }
 ],
 "metadata": {
  "kernelspec": {
   "display_name": "Python (learn-env)",
   "language": "python",
   "name": "learn-env"
  },
  "language_info": {
   "codemirror_mode": {
    "name": "ipython",
    "version": 3
   },
   "file_extension": ".py",
   "mimetype": "text/x-python",
   "name": "python",
   "nbconvert_exporter": "python",
   "pygments_lexer": "ipython3",
   "version": "3.8.5"
  }
 },
 "nbformat": 4,
 "nbformat_minor": 4
}
